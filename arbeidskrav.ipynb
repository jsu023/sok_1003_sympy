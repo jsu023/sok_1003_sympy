{
 "cells": [
  {
   "cell_type": "code",
   "execution_count": 8,
   "id": "ce746726-962a-4ed3-b5e4-b9c03e85072d",
   "metadata": {},
   "outputs": [],
   "source": [
    "import matplotlib.pyplot as plt\n",
    "import numpy as np\n",
    "import sympy as sy\n",
    "import pandas as pd"
   ]
  },
  {
   "cell_type": "markdown",
   "id": "d213d527-3168-4cdd-8030-7039abf9c18a",
   "metadata": {},
   "source": [
    "## Sympy\n"
   ]
  },
  {
   "cell_type": "markdown",
   "id": "809b910d-2e21-4f2e-a6eb-860f2c542f36",
   "metadata": {},
   "source": [
    "### Oppgave 15"
   ]
  },
  {
   "cell_type": "code",
   "execution_count": 10,
   "id": "861369f3-fdc0-47ed-b106-c2b889c82b89",
   "metadata": {},
   "outputs": [
    {
     "data": {
      "text/plain": [
       "{x: -1, y: 2}"
      ]
     },
     "execution_count": 10,
     "metadata": {},
     "output_type": "execute_result"
    }
   ],
   "source": [
    "#a)\n",
    "\n",
    "from sympy.solvers import solve\n",
    "x,y= sy.symbols('x y')\n",
    "\n",
    "eq1= sy.Eq(2*x + 4*y, 6)\n",
    "eq1\n",
    "\n",
    "eq2= sy.Eq(-2*x + y, 4 )\n",
    "eq2\n",
    "\n",
    "sol= solve([eq1, eq2], [x,y])\n",
    "sol"
   ]
  },
  {
   "cell_type": "code",
   "execution_count": 5,
   "id": "ed427e45-e6be-4442-8561-1e26fc78f44e",
   "metadata": {},
   "outputs": [
    {
     "data": {
      "text/plain": [
       "[(-1, -1), (2, 5)]"
      ]
     },
     "execution_count": 5,
     "metadata": {},
     "output_type": "execute_result"
    }
   ],
   "source": [
    "#b)\n",
    "eq3= sy.Eq(2*x - y, -1)\n",
    "eq3\n",
    "\n",
    "eq4= sy.Eq(x**2 + x - y, 1)\n",
    "eq4\n",
    "\n",
    "sol1 = solve([eq3, eq4], [x,y])\n",
    "sol1"
   ]
  },
  {
   "cell_type": "markdown",
   "id": "43bf67ba-5af9-47fe-9cfa-8194b43f3fb3",
   "metadata": {},
   "source": [
    "### Del 2"
   ]
  },
  {
   "cell_type": "code",
   "execution_count": 5,
   "id": "c9cb5c3a-4654-4f70-ae97-837ecf92132f",
   "metadata": {},
   "outputs": [
    {
     "data": {
      "text/plain": [
       "{x: 4, y: 0}"
      ]
     },
     "execution_count": 5,
     "metadata": {},
     "output_type": "execute_result"
    }
   ],
   "source": [
    "### a) \n",
    "eq5 = sy.Eq(3*x - 12, -6*y)\n",
    "eq5\n",
    "\n",
    "eq6= sy.Eq(4*x - 8*y, 16)\n",
    "eq6\n",
    "\n",
    "sol2= solve([eq5, eq6], [x,y])\n",
    "sol2\n"
   ]
  },
  {
   "cell_type": "code",
   "execution_count": 6,
   "id": "d4fdec45-32b1-48c2-9de1-1506a0cab6e1",
   "metadata": {},
   "outputs": [
    {
     "data": {
      "text/plain": [
       "[(-15/2, 31/4), (2, 3)]"
      ]
     },
     "execution_count": 6,
     "metadata": {},
     "output_type": "execute_result"
    }
   ],
   "source": [
    "## b) \n",
    "eq7 = sy.Eq(x**2 + 4*x - 3, 3*y)\n",
    "eq7 \n",
    "\n",
    "eq8 = sy.Eq(2*y, 8 - x)\n",
    "eq8 \n",
    "\n",
    "sol3 = solve([eq7, eq8], [x,y])\n",
    "sol3\n"
   ]
  },
  {
   "cell_type": "markdown",
   "id": "c3d83c16-2173-405b-8594-79b040c7498b",
   "metadata": {},
   "source": [
    "## Oppgave 16\n"
   ]
  },
  {
   "cell_type": "code",
   "execution_count": 7,
   "id": "c711ced2-7969-40e1-8d2d-712e1310e65a",
   "metadata": {},
   "outputs": [
    {
     "data": {
      "text/plain": [
       "{x: 2, y: 2}"
      ]
     },
     "execution_count": 7,
     "metadata": {},
     "output_type": "execute_result"
    }
   ],
   "source": [
    "##a) \n",
    "\n",
    "eq9 = sy.Eq(4*x + 2*y, 12)\n",
    "eq9 \n",
    "\n",
    "eq10 = sy.Eq(6*x - 2*y, 8)\n",
    "eq10\n",
    "\n",
    "sol4 = solve([eq9, eq10], [x,y])\n",
    "sol4"
   ]
  },
  {
   "cell_type": "code",
   "execution_count": 8,
   "id": "dfbd9deb-9aff-48eb-9b88-4379fe5b013b",
   "metadata": {},
   "outputs": [
    {
     "data": {
      "text/plain": [
       "[(0, -5), (12, 1)]"
      ]
     },
     "execution_count": 8,
     "metadata": {},
     "output_type": "execute_result"
    }
   ],
   "source": [
    "##b) \n",
    "eq11 = sy.Eq(2*x + y**2, 25)\n",
    "eq11\n",
    "\n",
    "eq12 = sy.Eq(x - 2*y, 10)\n",
    "eq12\n",
    "\n",
    "sol5 = solve([eq11, eq12], [x,y])\n",
    "sol5"
   ]
  },
  {
   "cell_type": "markdown",
   "id": "8ec9fb46-b75d-4d00-9bed-4b22bb2570b3",
   "metadata": {},
   "source": [
    "## Del 2"
   ]
  },
  {
   "cell_type": "code",
   "execution_count": 9,
   "id": "437c4c22-2ec5-4332-a70c-28318d8bbc43",
   "metadata": {},
   "outputs": [
    {
     "data": {
      "text/plain": [
       "{x: 4, y: 2}"
      ]
     },
     "execution_count": 9,
     "metadata": {},
     "output_type": "execute_result"
    }
   ],
   "source": [
    "##a) \n",
    "eq13 = sy.Eq(4*x - 4*y, 8)\n",
    "eq13\n",
    "\n",
    "eq14= sy.Eq(9*x - 5*y, 26)\n",
    "eq14\n",
    "\n",
    "sol6 = solve([eq13, eq14], [x, y])\n",
    "sol6"
   ]
  },
  {
   "cell_type": "code",
   "execution_count": 10,
   "id": "f76348e9-9c97-4aed-a1d2-f697c2a65e1b",
   "metadata": {},
   "outputs": [
    {
     "data": {
      "text/plain": [
       "[(-9, -2*sqrt(3)), (-9, 2*sqrt(3)), (7, -2), (7, 2)]"
      ]
     },
     "execution_count": 10,
     "metadata": {},
     "output_type": "execute_result"
    }
   ],
   "source": [
    "##b) \n",
    "\n",
    "eq15= sy.Eq(x + 2*y**2, 15)\n",
    "eq15\n",
    "\n",
    "eq16= sy.Eq(x**2 - 4*y**2, 33)\n",
    "eq16 \n",
    "\n",
    "sol7=solve([eq15, eq16], [x,y])\n",
    "sol7"
   ]
  },
  {
   "cell_type": "markdown",
   "id": "54cb47d2-5ecb-4fd7-bbe3-877b506e41fc",
   "metadata": {},
   "source": [
    "## Oppgave 17"
   ]
  },
  {
   "cell_type": "code",
   "execution_count": 11,
   "id": "6962d5f8-bfd5-41cb-b1cd-7089032b7f98",
   "metadata": {},
   "outputs": [
    {
     "data": {
      "text/plain": [
       "[(0, -4), (0, 4), (15, -1), (15, 1)]"
      ]
     },
     "execution_count": 11,
     "metadata": {},
     "output_type": "execute_result"
    }
   ],
   "source": [
    "##a) \n",
    "\n",
    "eq17 = sy.Eq(x*y**2 - x, 0)\n",
    "eq17\n",
    "\n",
    "eq18= sy.Eq(x + y**2, 16)\n",
    "eq18\n",
    "\n",
    "sol8= solve([eq17, eq18], [x,y])\n",
    "sol8\n"
   ]
  },
  {
   "cell_type": "code",
   "execution_count": 12,
   "id": "2be653db-fecd-433f-ba05-f0ca112384ba",
   "metadata": {},
   "outputs": [
    {
     "data": {
      "text/plain": [
       "[(-10, 0), (-6, -8), (-6, 8), (6, -8), (6, 8), (10, 0)]"
      ]
     },
     "execution_count": 12,
     "metadata": {},
     "output_type": "execute_result"
    }
   ],
   "source": [
    "##b) \n",
    "\n",
    "eq19= sy.Eq(x**2 + y**2, 100)\n",
    "eq19\n",
    "\n",
    "eq20= sy.Eq(x**2*y - 36 * y, 0)\n",
    "eq20 \n",
    "\n",
    "sol9= solve([eq19, eq20], [x,y])\n",
    "sol9"
   ]
  },
  {
   "cell_type": "markdown",
   "id": "03f827d7-7232-4616-9ce4-adddaba93f4f",
   "metadata": {},
   "source": [
    "## Del 2"
   ]
  },
  {
   "cell_type": "code",
   "execution_count": 13,
   "id": "a70b3be7-8ca3-46cf-a442-54c647abe86c",
   "metadata": {},
   "outputs": [
    {
     "data": {
      "text/plain": [
       "[(-3, -7), (-3, 7), (0, -sqrt(58)), (0, sqrt(58)), (3, -7), (3, 7)]"
      ]
     },
     "execution_count": 13,
     "metadata": {},
     "output_type": "execute_result"
    }
   ],
   "source": [
    "# a) \n",
    "eq21 = sy.Eq(x*y**2 - 49 *x, 0)\n",
    "eq21\n",
    "\n",
    "eq22= sy.Eq(x**2 + y **2, 58)\n",
    "eq22\n",
    "\n",
    "sol10= solve([eq21, eq22], [x,y])\n",
    "sol10\n"
   ]
  },
  {
   "cell_type": "code",
   "execution_count": 14,
   "id": "ecd93215-d576-402a-bbc4-f00203cacce4",
   "metadata": {},
   "outputs": [
    {
     "data": {
      "text/plain": [
       "[(-1.11803398874989, 0.0),\n",
       " (-0.500000000000000, -1.00000000000000),\n",
       " (-0.500000000000000, 1.00000000000000),\n",
       " (1.11803398874989, 0.0)]"
      ]
     },
     "execution_count": 14,
     "metadata": {},
     "output_type": "execute_result"
    }
   ],
   "source": [
    "# b) \n",
    "\n",
    "eq23 = sy.Eq(x**2 + y**2, 5/4)\n",
    "eq23\n",
    "\n",
    "eq24 = sy.Eq(2*x*y + y, 0)\n",
    "eq24\n",
    "\n",
    "sol11= solve([eq23, eq24], [x, y])\n",
    "sol11\n"
   ]
  },
  {
   "cell_type": "markdown",
   "id": "d397409e-ee9b-4e81-b437-04808b1449b0",
   "metadata": {},
   "source": [
    "## Oppgave 19"
   ]
  },
  {
   "cell_type": "code",
   "execution_count": 15,
   "id": "8458e520-c9bf-4951-b211-759abdaf42c3",
   "metadata": {},
   "outputs": [
    {
     "data": {
      "text/latex": [
       "$\\displaystyle 5 x^{4}$"
      ],
      "text/plain": [
       "5*x**4"
      ]
     },
     "execution_count": 15,
     "metadata": {},
     "output_type": "execute_result"
    }
   ],
   "source": [
    "## a)\n",
    "\n",
    "sy.diff(x**5, x)"
   ]
  },
  {
   "cell_type": "code",
   "execution_count": 16,
   "id": "4cc96f41-dcb8-48ef-a4c7-c5d1d3305dc9",
   "metadata": {},
   "outputs": [
    {
     "data": {
      "text/latex": [
       "$\\displaystyle 1$"
      ],
      "text/plain": [
       "1"
      ]
     },
     "execution_count": 16,
     "metadata": {},
     "output_type": "execute_result"
    }
   ],
   "source": [
    "## b) \n",
    "\n",
    "sy.diff(x + 12, x)"
   ]
  },
  {
   "cell_type": "code",
   "execution_count": 17,
   "id": "0ab7c298-7627-4539-bc3d-6e3c79c2a191",
   "metadata": {},
   "outputs": [
    {
     "data": {
      "text/latex": [
       "$\\displaystyle 3 x^{2} + 8 x$"
      ],
      "text/plain": [
       "3*x**2 + 8*x"
      ]
     },
     "execution_count": 17,
     "metadata": {},
     "output_type": "execute_result"
    }
   ],
   "source": [
    "## c) \n",
    "\n",
    "sy.diff(x**3 + 4*x**2, x)"
   ]
  },
  {
   "cell_type": "code",
   "execution_count": 18,
   "id": "6dadace7-833b-477e-aac2-490ba3e0299c",
   "metadata": {},
   "outputs": [
    {
     "data": {
      "text/latex": [
       "$\\displaystyle 6 x^{2}$"
      ],
      "text/plain": [
       "6*x**2"
      ]
     },
     "execution_count": 18,
     "metadata": {},
     "output_type": "execute_result"
    }
   ],
   "source": [
    "## d) \n",
    "sy.diff(2*x**3 + sy.sqrt(36), x)"
   ]
  },
  {
   "cell_type": "code",
   "execution_count": 19,
   "id": "6088ae55-4027-47b0-85fd-707dd2bfef63",
   "metadata": {},
   "outputs": [
    {
     "data": {
      "text/latex": [
       "$\\displaystyle \\frac{1}{2 \\sqrt{x}}$"
      ],
      "text/plain": [
       "1/(2*sqrt(x))"
      ]
     },
     "execution_count": 19,
     "metadata": {},
     "output_type": "execute_result"
    }
   ],
   "source": [
    "## e) \n",
    "sy.diff(sy.sqrt(x)+ 5**2, x)"
   ]
  },
  {
   "cell_type": "code",
   "execution_count": 20,
   "id": "138b7ec2-e054-41f3-b9c8-feda2b971fb2",
   "metadata": {},
   "outputs": [
    {
     "data": {
      "text/latex": [
       "$\\displaystyle 3 x^{2} - \\frac{1}{x^{2}}$"
      ],
      "text/plain": [
       "3*x**2 - 1/x**2"
      ]
     },
     "execution_count": 20,
     "metadata": {},
     "output_type": "execute_result"
    }
   ],
   "source": [
    "## f) \n",
    "\n",
    "sy.diff(x**3 + 1/x, x)"
   ]
  },
  {
   "cell_type": "code",
   "execution_count": 21,
   "id": "dea08c69-53f9-4252-b40f-8b393c3e6766",
   "metadata": {},
   "outputs": [
    {
     "data": {
      "text/latex": [
       "$\\displaystyle 3 x^{2} - 2 x + 0.25$"
      ],
      "text/plain": [
       "3*x**2 - 2*x + 0.25"
      ]
     },
     "execution_count": 21,
     "metadata": {},
     "output_type": "execute_result"
    }
   ],
   "source": [
    "## g) \n",
    "\n",
    "sy.diff(x**3 - x**2 + 1/4*x, x)"
   ]
  },
  {
   "cell_type": "markdown",
   "id": "17aacd10-115e-4fd5-b7f7-8d2f721566fd",
   "metadata": {},
   "source": [
    "## Del 2"
   ]
  },
  {
   "cell_type": "code",
   "execution_count": 22,
   "id": "42f9afe6-850a-4438-8762-220e79c36594",
   "metadata": {},
   "outputs": [
    {
     "data": {
      "text/latex": [
       "$\\displaystyle 36 x^{5} - \\frac{1}{x^{2}}$"
      ],
      "text/plain": [
       "36*x**5 - 1/x**2"
      ]
     },
     "execution_count": 22,
     "metadata": {},
     "output_type": "execute_result"
    }
   ],
   "source": [
    "## a) \n",
    "\n",
    "sy.diff(1/x + 6*x**6, x)"
   ]
  },
  {
   "cell_type": "code",
   "execution_count": 23,
   "id": "bfd0ea08-502e-4d8e-88f6-1df63b8b88b5",
   "metadata": {},
   "outputs": [
    {
     "data": {
      "text/latex": [
       "$\\displaystyle 1.5 x^{2} - 1$"
      ],
      "text/plain": [
       "1.5*x**2 - 1"
      ]
     },
     "execution_count": 23,
     "metadata": {},
     "output_type": "execute_result"
    }
   ],
   "source": [
    "## b) \n",
    "\n",
    "sy.diff(-x + 1/2*x**3, x)"
   ]
  },
  {
   "cell_type": "code",
   "execution_count": 24,
   "id": "c1ad43e9-1fef-4f85-b07a-63f4a61ac7cc",
   "metadata": {},
   "outputs": [
    {
     "data": {
      "text/latex": [
       "$\\displaystyle 3 x^{2} + 4 x - 3$"
      ],
      "text/plain": [
       "3*x**2 + 4*x - 3"
      ]
     },
     "execution_count": 24,
     "metadata": {},
     "output_type": "execute_result"
    }
   ],
   "source": [
    "## c) \n",
    "sy.diff(x**3 + 2*x**2 -3*x, x)"
   ]
  },
  {
   "cell_type": "markdown",
   "id": "51f3762a-d14b-4531-b377-8624b245106b",
   "metadata": {},
   "source": [
    "## Oppgave 20\n"
   ]
  },
  {
   "cell_type": "code",
   "execution_count": 25,
   "id": "7f6d2fe0-6819-40b9-9a03-4e0a9dccd7e3",
   "metadata": {},
   "outputs": [
    {
     "data": {
      "text/latex": [
       "$\\displaystyle 9 x^{8}$"
      ],
      "text/plain": [
       "9*x**8"
      ]
     },
     "execution_count": 25,
     "metadata": {},
     "output_type": "execute_result"
    }
   ],
   "source": [
    "## e) \n",
    "\n",
    "sy.diff(x**4 * x**5, x)"
   ]
  },
  {
   "cell_type": "code",
   "execution_count": 26,
   "id": "c0c77723-8313-45d8-849d-93576b531227",
   "metadata": {},
   "outputs": [
    {
     "data": {
      "text/latex": [
       "$\\displaystyle \\frac{3 \\sqrt{x}}{2}$"
      ],
      "text/plain": [
       "3*sqrt(x)/2"
      ]
     },
     "execution_count": 26,
     "metadata": {},
     "output_type": "execute_result"
    }
   ],
   "source": [
    "## f) \n",
    "\n",
    "sy.diff(x * sy.sqrt(x))"
   ]
  },
  {
   "cell_type": "code",
   "execution_count": 27,
   "id": "f073643a-d163-42ae-bda9-b4f8712eaf65",
   "metadata": {},
   "outputs": [
    {
     "data": {
      "text/latex": [
       "$\\displaystyle - \\frac{6}{x^{4}}$"
      ],
      "text/plain": [
       "-6/x**4"
      ]
     },
     "execution_count": 27,
     "metadata": {},
     "output_type": "execute_result"
    }
   ],
   "source": [
    "## g) \n",
    "\n",
    "sy.diff(2/x**3, x)"
   ]
  },
  {
   "cell_type": "code",
   "execution_count": 28,
   "id": "0c71c015-8fd0-4289-beac-044e1038d68e",
   "metadata": {},
   "outputs": [
    {
     "data": {
      "text/latex": [
       "$\\displaystyle 2 x + \\frac{6}{x^{4}}$"
      ],
      "text/plain": [
       "2*x + 6/x**4"
      ]
     },
     "execution_count": 28,
     "metadata": {},
     "output_type": "execute_result"
    }
   ],
   "source": [
    "## h) \n",
    "\n",
    "sy.diff(x**2 - 2/ x**3, x)"
   ]
  },
  {
   "cell_type": "code",
   "execution_count": 29,
   "id": "eb21432e-7420-460c-a46d-e1c419a682cd",
   "metadata": {},
   "outputs": [
    {
     "data": {
      "text/latex": [
       "$\\displaystyle \\frac{13 x^{\\frac{11}{2}}}{2}$"
      ],
      "text/plain": [
       "13*x**(11/2)/2"
      ]
     },
     "execution_count": 29,
     "metadata": {},
     "output_type": "execute_result"
    }
   ],
   "source": [
    "## i) \n",
    "\n",
    "sy.diff(sy.sqrt(x) * x**6,x)"
   ]
  },
  {
   "cell_type": "code",
   "execution_count": 30,
   "id": "2ef1323e-3ab2-4614-a871-727ce2863eda",
   "metadata": {},
   "outputs": [
    {
     "data": {
      "text/latex": [
       "$\\displaystyle 3 x^{2} + 1$"
      ],
      "text/plain": [
       "3*x**2 + 1"
      ]
     },
     "execution_count": 30,
     "metadata": {},
     "output_type": "execute_result"
    }
   ],
   "source": [
    "## j) \n",
    "\n",
    "sy.diff(x**3 + 1*x, x)"
   ]
  },
  {
   "cell_type": "code",
   "execution_count": 32,
   "id": "6810b971-3ecb-48a4-9b05-2ebcb0f39723",
   "metadata": {},
   "outputs": [
    {
     "data": {
      "text/latex": [
       "$\\displaystyle 2 x - \\frac{12}{x^{4}}$"
      ],
      "text/plain": [
       "2*x - 12/x**4"
      ]
     },
     "execution_count": 32,
     "metadata": {},
     "output_type": "execute_result"
    }
   ],
   "source": [
    "## k) \n",
    "\n",
    "c = sy.diff(x**2 + 4 / x**3 -1, x)\n",
    "sy.simplify(c)"
   ]
  },
  {
   "cell_type": "code",
   "execution_count": 33,
   "id": "0117bbd1-670d-47d1-9f3b-9c8f39f6bb51",
   "metadata": {},
   "outputs": [
    {
     "data": {
      "text/latex": [
       "$\\displaystyle \\frac{2}{\\left(x + 2\\right)^{2}}$"
      ],
      "text/plain": [
       "2/(x + 2)**2"
      ]
     },
     "execution_count": 33,
     "metadata": {},
     "output_type": "execute_result"
    }
   ],
   "source": [
    "## l) \n",
    "b = sy.diff((x**2)/(x**2 + 2*x),x)\n",
    "sy.simplify(b)"
   ]
  },
  {
   "cell_type": "code",
   "execution_count": 34,
   "id": "36fae3c6-aeaf-4a76-99d4-27302e9962f2",
   "metadata": {},
   "outputs": [
    {
     "data": {
      "text/latex": [
       "$\\displaystyle \\frac{x^{2} - 4 x - 10}{x^{2} - 4 x + 4}$"
      ],
      "text/plain": [
       "(x**2 - 4*x - 10)/(x**2 - 4*x + 4)"
      ]
     },
     "execution_count": 34,
     "metadata": {},
     "output_type": "execute_result"
    }
   ],
   "source": [
    "## m) \n",
    "\n",
    "a = sy.diff((x**2 + 4*x  + 2) / (x- 2), x)\n",
    "sy.simplify(a)"
   ]
  },
  {
   "cell_type": "markdown",
   "id": "dcdb2c48-70a8-472a-bb3a-fce289a13bc0",
   "metadata": {},
   "source": [
    "## Del2"
   ]
  },
  {
   "cell_type": "code",
   "execution_count": 36,
   "id": "3b21df2e-94a0-4af8-b340-43b686b5e360",
   "metadata": {},
   "outputs": [
    {
     "data": {
      "text/latex": [
       "$\\displaystyle \\frac{x^{4} - x^{2} + 2}{x^{4} - 2 x^{2} + 1}$"
      ],
      "text/plain": [
       "(x**4 - x**2 + 2)/(x**4 - 2*x**2 + 1)"
      ]
     },
     "execution_count": 36,
     "metadata": {},
     "output_type": "execute_result"
    }
   ],
   "source": [
    "## a) \n",
    "\n",
    "d= sy.diff((x**3 - 2*x)/(x**2 - 1), x)\n",
    "sy.simplify(d)"
   ]
  },
  {
   "cell_type": "code",
   "execution_count": 38,
   "id": "55cc824e-c21a-4122-86c5-57e7766893e2",
   "metadata": {},
   "outputs": [
    {
     "data": {
      "text/latex": [
       "$\\displaystyle 4 x^{3}$"
      ],
      "text/plain": [
       "4*x**3"
      ]
     },
     "execution_count": 38,
     "metadata": {},
     "output_type": "execute_result"
    }
   ],
   "source": [
    "## b) \n",
    "f = sy.diff((x**2 + 1)* (x**2 -1), x)\n",
    "sy.simplify(f)"
   ]
  },
  {
   "cell_type": "code",
   "execution_count": 43,
   "id": "72501687-c458-4b19-81f3-7c192d87b612",
   "metadata": {},
   "outputs": [
    {
     "data": {
      "text/latex": [
       "$\\displaystyle \\frac{3 \\left(- 2 x^{3} + 4 x^{2} + 7\\right)}{x^{6} + 14 x^{3} + 49}$"
      ],
      "text/plain": [
       "3*(-2*x**3 + 4*x**2 + 7)/(x**6 + 14*x**3 + 49)"
      ]
     },
     "execution_count": 43,
     "metadata": {},
     "output_type": "execute_result"
    }
   ],
   "source": [
    "## c) \n",
    "e = sy.diff((3*x-4)/(x**3+7), x)\n",
    "sy.simplify(e)"
   ]
  },
  {
   "cell_type": "markdown",
   "id": "b34b5fe1-f8fa-4b4b-8a06-86e2c03d6685",
   "metadata": {},
   "source": [
    "## Oppgave 21"
   ]
  },
  {
   "cell_type": "code",
   "execution_count": 44,
   "id": "35e39775-4f1e-437f-bf16-7178dff3aaab",
   "metadata": {},
   "outputs": [
    {
     "data": {
      "text/latex": [
       "$\\displaystyle 15 x^{4} \\left(x^{2} + 2\\right) \\left(x^{2} + 6\\right)^{4}$"
      ],
      "text/plain": [
       "15*x**4*(x**2 + 2)*(x**2 + 6)**4"
      ]
     },
     "execution_count": 44,
     "metadata": {},
     "output_type": "execute_result"
    }
   ],
   "source": [
    "## a) \n",
    "g = sy.diff((x**3+6*x)**5, x)\n",
    "sy.simplify(g)"
   ]
  },
  {
   "cell_type": "code",
   "execution_count": 45,
   "id": "d4c3d2af-d98f-4f90-9925-db554b095c18",
   "metadata": {},
   "outputs": [
    {
     "data": {
      "text/latex": [
       "$\\displaystyle \\frac{2 x}{\\sqrt{2 x^{2} + 5}}$"
      ],
      "text/plain": [
       "2*x/sqrt(2*x**2 + 5)"
      ]
     },
     "execution_count": 45,
     "metadata": {},
     "output_type": "execute_result"
    }
   ],
   "source": [
    "## b) \n",
    "sy.diff(sy.sqrt(2*x**2+5),x)"
   ]
  },
  {
   "cell_type": "code",
   "execution_count": 47,
   "id": "77bb187f-133f-4970-9329-165007ebbcc7",
   "metadata": {},
   "outputs": [
    {
     "data": {
      "text/latex": [
       "$\\displaystyle \\frac{64 x^{3} \\left(3 - x^{2}\\right)}{\\left(x^{2} + 3\\right)^{5}}$"
      ],
      "text/plain": [
       "64*x**3*(3 - x**2)/(x**2 + 3)**5"
      ]
     },
     "execution_count": 47,
     "metadata": {},
     "output_type": "execute_result"
    }
   ],
   "source": [
    "## c) \n",
    "h = sy.diff(((2*x)/(x**2+3))**4)\n",
    "sy.simplify(h)"
   ]
  },
  {
   "cell_type": "code",
   "execution_count": 51,
   "id": "39626a5c-ee87-48e2-8867-2f6f111d1137",
   "metadata": {},
   "outputs": [
    {
     "data": {
      "text/latex": [
       "$\\displaystyle 6 x^{3} \\left(2 x^{4} + 9\\right)^{2}$"
      ],
      "text/plain": [
       "6*x**3*(2*x**4 + 9)**2"
      ]
     },
     "execution_count": 51,
     "metadata": {},
     "output_type": "execute_result"
    }
   ],
   "source": [
    "## d)\n",
    "i = sy.diff((2*x**4+9)**3/4, x)\n",
    "sy.simplify(i)"
   ]
  },
  {
   "cell_type": "code",
   "execution_count": 55,
   "id": "0c17bc2c-3a8f-467b-8172-a2edc4689c90",
   "metadata": {},
   "outputs": [
    {
     "data": {
      "text/latex": [
       "$\\displaystyle - \\frac{x}{\\left(x^{2} + 1\\right)^{\\frac{3}{2}}}$"
      ],
      "text/plain": [
       "-x/(x**2 + 1)**(3/2)"
      ]
     },
     "execution_count": 55,
     "metadata": {},
     "output_type": "execute_result"
    }
   ],
   "source": [
    "## e) \n",
    "e = sy.diff(1/sy.sqrt(1+x**2),x)\n",
    "sy.simplify(e)  "
   ]
  },
  {
   "cell_type": "code",
   "execution_count": 64,
   "id": "e6d77e1c-0cae-4faa-9cc3-b2a5d6ba369b",
   "metadata": {},
   "outputs": [
    {
     "data": {
      "text/latex": [
       "$\\displaystyle x^{4} \\left(x + 2\\right)^{2} \\left(8 x + 10\\right)$"
      ],
      "text/plain": [
       "x**4*(x + 2)**2*(8*x + 10)"
      ]
     },
     "execution_count": 64,
     "metadata": {},
     "output_type": "execute_result"
    }
   ],
   "source": [
    "## f) \n",
    "j = sy.diff((x**2)*(x**2 + 2*x)**3, x)\n",
    "sy.simplify(j)"
   ]
  },
  {
   "cell_type": "code",
   "execution_count": 66,
   "id": "14f6a656-85c0-43de-8e12-fd54a2e00ca8",
   "metadata": {},
   "outputs": [
    {
     "data": {
      "text/latex": [
       "$\\displaystyle \\frac{x^{2} \\left(3 x - 5\\right)}{\\sqrt{x \\left(x - 2\\right)}}$"
      ],
      "text/plain": [
       "x**2*(3*x - 5)/sqrt(x*(x - 2))"
      ]
     },
     "execution_count": 66,
     "metadata": {},
     "output_type": "execute_result"
    }
   ],
   "source": [
    "## g) \n",
    "l = sy.diff(x**2 * sy.sqrt(x**2 - 2*x), x)\n",
    "sy.simplify(l)"
   ]
  },
  {
   "cell_type": "code",
   "execution_count": 69,
   "id": "25c49ef9-1371-4da9-9c68-e8ee93cbc5bd",
   "metadata": {},
   "outputs": [
    {
     "data": {
      "text/latex": [
       "$\\displaystyle - \\frac{4 x + 1}{x^{2} \\left(x + 1\\right)^{4}}$"
      ],
      "text/plain": [
       "-(4*x + 1)/(x**2*(x + 1)**4)"
      ]
     },
     "execution_count": 69,
     "metadata": {},
     "output_type": "execute_result"
    }
   ],
   "source": [
    "## h)\n",
    "k = sy.diff(x**2 / (x**2 + x)**3, x)\n",
    "sy.simplify(k)"
   ]
  },
  {
   "cell_type": "code",
   "execution_count": 71,
   "id": "81e7f9db-6bca-4dd9-ae88-fa8860456559",
   "metadata": {},
   "outputs": [
    {
     "data": {
      "text/latex": [
       "$\\displaystyle x \\left(x^{2} + 1\\right) \\left(x^{3} + 1\\right)^{2} \\left(4 x^{3} + 9 x \\left(x^{2} + 1\\right) + 4\\right)$"
      ],
      "text/plain": [
       "x*(x**2 + 1)*(x**3 + 1)**2*(4*x**3 + 9*x*(x**2 + 1) + 4)"
      ]
     },
     "execution_count": 71,
     "metadata": {},
     "output_type": "execute_result"
    }
   ],
   "source": [
    "## i) \n",
    "p = sy.diff((x**2 + 1)**2 * (x**3 +1)**3, x)\n",
    "sy.simplify(p)"
   ]
  },
  {
   "cell_type": "markdown",
   "id": "f3928ad5-3be5-4bb0-a02c-ddaedc7d14a8",
   "metadata": {},
   "source": [
    "## Del2"
   ]
  },
  {
   "cell_type": "code",
   "execution_count": 78,
   "id": "122940e3-59ad-4eb5-a218-1d19b91e8c36",
   "metadata": {},
   "outputs": [
    {
     "data": {
      "text/latex": [
       "$\\displaystyle \\frac{\\left(24 x + 8\\right) \\sqrt{\\left(3 x^{2} + 2 x\\right)^{4}}}{2 \\left(3 x^{2} + 2 x\\right)}$"
      ],
      "text/plain": [
       "(24*x + 8)*sqrt((3*x**2 + 2*x)**4)/(2*(3*x**2 + 2*x))"
      ]
     },
     "execution_count": 78,
     "metadata": {},
     "output_type": "execute_result"
    }
   ],
   "source": [
    "## a) \n",
    "sy.diff(sy.sqrt((3*x**2 + 2*x)**4),x)"
   ]
  },
  {
   "cell_type": "code",
   "execution_count": 80,
   "id": "2ad2c8d7-0c5c-4ff7-b391-68c959e9cd70",
   "metadata": {},
   "outputs": [
    {
     "data": {
      "text/latex": [
       "$\\displaystyle x \\left(x^{2} + 3\\right)^{3} \\left(x^{3} + 3\\right)^{4} \\left(8 x^{3} + 15 x \\left(x^{2} + 3\\right) + 24\\right)$"
      ],
      "text/plain": [
       "x*(x**2 + 3)**3*(x**3 + 3)**4*(8*x**3 + 15*x*(x**2 + 3) + 24)"
      ]
     },
     "execution_count": 80,
     "metadata": {},
     "output_type": "execute_result"
    }
   ],
   "source": [
    "## b) \n",
    "z = sy.diff(((x**3 + 3)**5) * ((x**2 +3)**4),x)\n",
    "sy.simplify(z)"
   ]
  },
  {
   "cell_type": "code",
   "execution_count": 108,
   "id": "7f3d3662-2946-4773-97cc-ec7695a5080f",
   "metadata": {},
   "outputs": [
    {
     "data": {
      "text/latex": [
       "$\\displaystyle \\frac{x \\left(3 x^{2} + 2\\right)}{\\sqrt{x^{2} + 1}}$"
      ],
      "text/plain": [
       "x*(3*x**2 + 2)/sqrt(x**2 + 1)"
      ]
     },
     "execution_count": 108,
     "metadata": {},
     "output_type": "execute_result"
    }
   ],
   "source": [
    "## c) \n",
    "r=sy.diff(sy.sqrt((x**2)+1)*(x**2))\n",
    "sy.simplify(r)"
   ]
  },
  {
   "cell_type": "code",
   "execution_count": 86,
   "id": "1ef76afa-edd4-4740-9a70-2a53f58fd346",
   "metadata": {},
   "outputs": [
    {
     "data": {
      "text/latex": [
       "$\\displaystyle \\left(3 x + 2\\right)^{2} \\left(12 x + 2\\right)$"
      ],
      "text/plain": [
       "(3*x + 2)**2*(12*x + 2)"
      ]
     },
     "execution_count": 86,
     "metadata": {},
     "output_type": "execute_result"
    }
   ],
   "source": [
    "## d) \n",
    "m=sy.diff(((2*x + 3*x**2)**3)/(x**2),x)\n",
    "sy.simplify(m)"
   ]
  },
  {
   "cell_type": "code",
   "execution_count": 87,
   "id": "6d690ea2-58ea-4d7f-9fc6-b35de87e2a1c",
   "metadata": {},
   "outputs": [
    {
     "data": {
      "text/latex": [
       "$\\displaystyle \\frac{6 x^{3}}{\\sqrt{x^{4} - 5}}$"
      ],
      "text/plain": [
       "6*x**3/sqrt(x**4 - 5)"
      ]
     },
     "execution_count": 87,
     "metadata": {},
     "output_type": "execute_result"
    }
   ],
   "source": [
    "## e) \n",
    "sy.diff(3*(sy.sqrt(x**4-5)))"
   ]
  },
  {
   "cell_type": "code",
   "execution_count": 90,
   "id": "3ac6b2ec-d24a-4e65-9da0-df75589f0c26",
   "metadata": {
    "tags": []
   },
   "outputs": [
    {
     "data": {
      "text/latex": [
       "$\\displaystyle \\frac{x^{2} \\left(x^{4} - 3\\right)}{\\left(x^{4} - 1\\right)^{\\frac{3}{2}}}$"
      ],
      "text/plain": [
       "x**2*(x**4 - 3)/(x**4 - 1)**(3/2)"
      ]
     },
     "execution_count": 90,
     "metadata": {},
     "output_type": "execute_result"
    }
   ],
   "source": [
    "## f) \n",
    "n = sy.diff((x**3)/(sy.sqrt(x**4-1)),x)\n",
    "sy.simplify(n)"
   ]
  },
  {
   "cell_type": "markdown",
   "id": "0be970a5-881c-433b-9273-48650c98fdc1",
   "metadata": {},
   "source": [
    "## Oppgave 22"
   ]
  },
  {
   "cell_type": "code",
   "execution_count": 11,
   "id": "15c1e3d1-ee4f-417a-8fed-5697d7bee511",
   "metadata": {},
   "outputs": [
    {
     "data": {
      "text/latex": [
       "$\\displaystyle \\frac{1}{x}$"
      ],
      "text/plain": [
       "1/x"
      ]
     },
     "execution_count": 11,
     "metadata": {},
     "output_type": "execute_result"
    }
   ],
   "source": [
    "## a)\n",
    "sy.diff(sy.log(5*x))"
   ]
  },
  {
   "cell_type": "code",
   "execution_count": 12,
   "id": "8c1efedc-b4a7-490d-bd2a-e298668a8486",
   "metadata": {},
   "outputs": [
    {
     "data": {
      "text/latex": [
       "$\\displaystyle - 2 e^{- 2 x}$"
      ],
      "text/plain": [
       "-2*exp(-2*x)"
      ]
     },
     "execution_count": 12,
     "metadata": {},
     "output_type": "execute_result"
    }
   ],
   "source": [
    "## b)\n",
    "sy.diff(sy.exp(-2*x))"
   ]
  },
  {
   "cell_type": "code",
   "execution_count": 13,
   "id": "63072a33-456c-45e7-ae96-bd9a7e5d4b90",
   "metadata": {},
   "outputs": [
    {
     "data": {
      "text/latex": [
       "$\\displaystyle \\frac{1}{x}$"
      ],
      "text/plain": [
       "1/x"
      ]
     },
     "execution_count": 13,
     "metadata": {},
     "output_type": "execute_result"
    }
   ],
   "source": [
    "## c) \n",
    "sy.diff(sy.log(12*x)-3)"
   ]
  },
  {
   "cell_type": "code",
   "execution_count": 14,
   "id": "278d406d-f5ee-4258-9dbc-1c704b7d7636",
   "metadata": {},
   "outputs": [
    {
     "data": {
      "text/latex": [
       "$\\displaystyle 2^{x} \\log{\\left(2 \\right)}$"
      ],
      "text/plain": [
       "2**x*log(2)"
      ]
     },
     "execution_count": 14,
     "metadata": {},
     "output_type": "execute_result"
    }
   ],
   "source": [
    "## d) \n",
    "sy.diff(2**x)"
   ]
  },
  {
   "cell_type": "code",
   "execution_count": 15,
   "id": "40803cc3-a28d-4bf8-972b-71f06468abe9",
   "metadata": {},
   "outputs": [
    {
     "data": {
      "text/latex": [
       "$\\displaystyle 3 e^{3 x + 5}$"
      ],
      "text/plain": [
       "3*exp(3*x + 5)"
      ]
     },
     "execution_count": 15,
     "metadata": {},
     "output_type": "execute_result"
    }
   ],
   "source": [
    "## e) \n",
    "sy.diff(sy.exp(3*x+5))"
   ]
  },
  {
   "cell_type": "code",
   "execution_count": 16,
   "id": "0204618d-7658-400f-9f26-ecf32a2c316e",
   "metadata": {},
   "outputs": [
    {
     "data": {
      "text/latex": [
       "$\\displaystyle \\frac{5 x^{4}}{x^{5} + 1}$"
      ],
      "text/plain": [
       "5*x**4/(x**5 + 1)"
      ]
     },
     "execution_count": 16,
     "metadata": {},
     "output_type": "execute_result"
    }
   ],
   "source": [
    "## f) \n",
    "sy.diff(sy.log(x**5+1))"
   ]
  },
  {
   "cell_type": "code",
   "execution_count": 17,
   "id": "d4fba993-46d0-47c0-8c7a-23cd83a65ec5",
   "metadata": {},
   "outputs": [
    {
     "data": {
      "text/latex": [
       "$\\displaystyle \\left(8 x + 8\\right) e^{4 x^{2} + 8 x}$"
      ],
      "text/plain": [
       "(8*x + 8)*exp(4*x**2 + 8*x)"
      ]
     },
     "execution_count": 17,
     "metadata": {},
     "output_type": "execute_result"
    }
   ],
   "source": [
    "## g) \n",
    "sy.diff(sy.exp(4*x**2+8*x))"
   ]
  },
  {
   "cell_type": "code",
   "execution_count": 18,
   "id": "4d5d6484-2134-4899-ae53-7363d08a84e8",
   "metadata": {},
   "outputs": [
    {
     "data": {
      "text/latex": [
       "$\\displaystyle - \\frac{1}{x}$"
      ],
      "text/plain": [
       "-1/x"
      ]
     },
     "execution_count": 18,
     "metadata": {},
     "output_type": "execute_result"
    }
   ],
   "source": [
    "## h) \n",
    "sy.diff(sy.log(1/x))"
   ]
  },
  {
   "cell_type": "code",
   "execution_count": 25,
   "id": "38037450-8fc5-419b-bcbf-d2667a5ee98b",
   "metadata": {},
   "outputs": [
    {
     "data": {
      "text/latex": [
       "$\\displaystyle 12 e^{4 x} + \\frac{6}{x}$"
      ],
      "text/plain": [
       "12*exp(4*x) + 6/x"
      ]
     },
     "execution_count": 25,
     "metadata": {},
     "output_type": "execute_result"
    }
   ],
   "source": [
    "## i) \n",
    "sy.diff(6*sy.log(x)+3*sy.exp(4*x))\n"
   ]
  },
  {
   "cell_type": "code",
   "execution_count": 29,
   "id": "033cf57b-8310-4ed3-8749-ce2007e4d906",
   "metadata": {},
   "outputs": [
    {
     "data": {
      "text/latex": [
       "$\\displaystyle - x e^{- x} + e^{- x}$"
      ],
      "text/plain": [
       "-x*exp(-x) + exp(-x)"
      ]
     },
     "execution_count": 29,
     "metadata": {},
     "output_type": "execute_result"
    }
   ],
   "source": [
    "## j) \n",
    "sy.diff((x)*(sy.exp(-x)))"
   ]
  },
  {
   "cell_type": "code",
   "execution_count": 30,
   "id": "510c53e1-b91a-4e2f-b3cc-c974e2788992",
   "metadata": {},
   "outputs": [
    {
     "data": {
      "text/latex": [
       "$\\displaystyle \\frac{2 x^{3}}{x^{2} + 2} + 2 x \\log{\\left(x^{2} + 2 \\right)}$"
      ],
      "text/plain": [
       "2*x**3/(x**2 + 2) + 2*x*log(x**2 + 2)"
      ]
     },
     "execution_count": 30,
     "metadata": {},
     "output_type": "execute_result"
    }
   ],
   "source": [
    "## k) \n",
    "sy.diff((x**2)*sy.log(x**2+2))"
   ]
  },
  {
   "cell_type": "markdown",
   "id": "ce39d966-beb3-4a6b-8635-5f9b83de6362",
   "metadata": {},
   "source": [
    "## del 2"
   ]
  },
  {
   "cell_type": "code",
   "execution_count": 34,
   "id": "5442cedc-3370-4657-9b68-e6f3abc81bae",
   "metadata": {},
   "outputs": [
    {
     "data": {
      "text/latex": [
       "$\\displaystyle x^{2} \\left(2 x + 3\\right) e^{2 x}$"
      ],
      "text/plain": [
       "x**2*(2*x + 3)*exp(2*x)"
      ]
     },
     "execution_count": 34,
     "metadata": {},
     "output_type": "execute_result"
    }
   ],
   "source": [
    "## a)\n",
    "w=sy.diff((x**3)*(sy.exp(2*x)))\n",
    "sy.simplify(w)"
   ]
  },
  {
   "cell_type": "code",
   "execution_count": 33,
   "id": "4febbd73-c03d-40b3-9b1a-204fd7ca36bf",
   "metadata": {},
   "outputs": [
    {
     "data": {
      "text/latex": [
       "$\\displaystyle \\frac{4 x}{x^{4} - 1}$"
      ],
      "text/plain": [
       "4*x/(x**4 - 1)"
      ]
     },
     "execution_count": 33,
     "metadata": {},
     "output_type": "execute_result"
    }
   ],
   "source": [
    "## b) \n",
    "l =sy.diff(sy.log((x**2-1)/(x**2+1)))\n",
    "sy.simplify(l)"
   ]
  },
  {
   "cell_type": "code",
   "execution_count": 35,
   "id": "998d1d1c-71aa-4f7b-83e3-2a472da7863b",
   "metadata": {},
   "outputs": [
    {
     "data": {
      "text/latex": [
       "$\\displaystyle \\frac{2 x^{3}}{x^{2} + 2} + 2 x \\log{\\left(x^{2} + 2 \\right)}$"
      ],
      "text/plain": [
       "2*x**3/(x**2 + 2) + 2*x*log(x**2 + 2)"
      ]
     },
     "execution_count": 35,
     "metadata": {},
     "output_type": "execute_result"
    }
   ],
   "source": [
    "## c) \n",
    "sy.diff((x**2)*(sy.log(x**2+2)))"
   ]
  },
  {
   "cell_type": "code",
   "execution_count": 37,
   "id": "0520c049-2c28-4dc0-bf87-8c10decce020",
   "metadata": {},
   "outputs": [
    {
     "data": {
      "text/latex": [
       "$\\displaystyle - \\frac{\\left(x^{2} + 2 x + 1\\right) e^{- x}}{\\left(x^{2} + 1\\right)^{2}}$"
      ],
      "text/plain": [
       "-(x**2 + 2*x + 1)*exp(-x)/(x**2 + 1)**2"
      ]
     },
     "execution_count": 37,
     "metadata": {},
     "output_type": "execute_result"
    }
   ],
   "source": [
    "## d) \n",
    "q=sy.diff((sy.exp(-x)/(x**2+1)))\n",
    "sy.simplify(q)"
   ]
  }
 ],
 "metadata": {
  "kernelspec": {
   "display_name": "Python 3 (ipykernel)",
   "language": "python",
   "name": "python3"
  },
  "language_info": {
   "codemirror_mode": {
    "name": "ipython",
    "version": 3
   },
   "file_extension": ".py",
   "mimetype": "text/x-python",
   "name": "python",
   "nbconvert_exporter": "python",
   "pygments_lexer": "ipython3",
   "version": "3.9.5"
  }
 },
 "nbformat": 4,
 "nbformat_minor": 5
}
