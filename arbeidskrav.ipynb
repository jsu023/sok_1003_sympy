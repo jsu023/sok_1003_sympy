{
 "cells": [
  {
   "cell_type": "code",
   "execution_count": 8,
   "id": "ce746726-962a-4ed3-b5e4-b9c03e85072d",
   "metadata": {},
   "outputs": [],
   "source": [
    "import matplotlib.pyplot as plt\n",
    "import numpy as np\n",
    "import sympy as sy\n",
    "import pandas as pd"
   ]
  },
  {
   "cell_type": "markdown",
   "id": "809b910d-2e21-4f2e-a6eb-860f2c542f36",
   "metadata": {},
   "source": [
    "### Oppgave 1 "
   ]
  },
  {
   "cell_type": "code",
   "execution_count": 67,
   "id": "861369f3-fdc0-47ed-b106-c2b889c82b89",
   "metadata": {},
   "outputs": [
    {
     "data": {
      "text/plain": [
       "{x: -1, y: 2}"
      ]
     },
     "execution_count": 67,
     "metadata": {},
     "output_type": "execute_result"
    }
   ],
   "source": [
    "#a)\n",
    "\n",
    "from sympy.solvers import solve\n",
    "x,y= sy.symbols('x y')\n",
    "\n",
    "eq1= sy.Eq(2*x + 4*y, 6)\n",
    "eq1\n",
    "\n",
    "eq2= sy.Eq(-2*x + y, 4 )\n",
    "eq2\n",
    "\n",
    "sol= solve([eq1, eq2], [x,y])\n",
    "sol"
   ]
  },
  {
   "cell_type": "code",
   "execution_count": 28,
   "id": "ed427e45-e6be-4442-8561-1e26fc78f44e",
   "metadata": {},
   "outputs": [
    {
     "data": {
      "text/plain": [
       "[(-1, -1), (2, 5)]"
      ]
     },
     "execution_count": 28,
     "metadata": {},
     "output_type": "execute_result"
    }
   ],
   "source": [
    "#b)\n",
    "eq3= sy.Eq(2*x - y, -1)\n",
    "eq3\n",
    "\n",
    "eq4= sy.Eq(x**2 + x - y, 1)\n",
    "eq4\n",
    "\n",
    "sol1 = solve([eq3, eq4], [x,y])\n",
    "sol1"
   ]
  },
  {
   "cell_type": "markdown",
   "id": "43bf67ba-5af9-47fe-9cfa-8194b43f3fb3",
   "metadata": {},
   "source": [
    "### Oppgave 2"
   ]
  },
  {
   "cell_type": "code",
   "execution_count": 25,
   "id": "c9cb5c3a-4654-4f70-ae97-837ecf92132f",
   "metadata": {},
   "outputs": [
    {
     "data": {
      "text/plain": [
       "{x: 4, y: 0}"
      ]
     },
     "execution_count": 25,
     "metadata": {},
     "output_type": "execute_result"
    }
   ],
   "source": [
    "### a) \n",
    "eq5 = sy.Eq(3*x - 12, -6*y)\n",
    "eq5\n",
    "\n",
    "eq6= sy.Eq(4*x - 8*y, 16)\n",
    "eq6\n",
    "\n",
    "sol2= solve([eq5, eq6], [x,y])\n",
    "sol2\n"
   ]
  },
  {
   "cell_type": "code",
   "execution_count": 29,
   "id": "d4fdec45-32b1-48c2-9de1-1506a0cab6e1",
   "metadata": {},
   "outputs": [
    {
     "data": {
      "text/plain": [
       "[(-15/2, 31/4), (2, 3)]"
      ]
     },
     "execution_count": 29,
     "metadata": {},
     "output_type": "execute_result"
    }
   ],
   "source": [
    "## b) \n",
    "eq7 = sy.Eq(x**2 + 4*x - 3, 3*y)\n",
    "eq7 \n",
    "\n",
    "eq8 = sy.Eq(2*y, 8 - x)\n",
    "eq8 \n",
    "\n",
    "sol3 = solve([eq7, eq8], [x,y])\n",
    "sol3\n"
   ]
  },
  {
   "cell_type": "markdown",
   "id": "c3d83c16-2173-405b-8594-79b040c7498b",
   "metadata": {},
   "source": [
    "## Oppgave 3\n"
   ]
  },
  {
   "cell_type": "code",
   "execution_count": 32,
   "id": "c711ced2-7969-40e1-8d2d-712e1310e65a",
   "metadata": {},
   "outputs": [
    {
     "data": {
      "text/plain": [
       "{x: 2, y: 2}"
      ]
     },
     "execution_count": 32,
     "metadata": {},
     "output_type": "execute_result"
    }
   ],
   "source": [
    "##a) \n",
    "\n",
    "eq9 = sy.Eq(4*x + 2*y, 12)\n",
    "eq9 \n",
    "\n",
    "eq10 = sy.Eq(6*x - 2*y, 8)\n",
    "eq10\n",
    "\n",
    "sol4 = solve([eq9, eq10], [x,y])\n",
    "sol4"
   ]
  },
  {
   "cell_type": "code",
   "execution_count": 34,
   "id": "dfbd9deb-9aff-48eb-9b88-4379fe5b013b",
   "metadata": {},
   "outputs": [
    {
     "data": {
      "text/plain": [
       "[(0, -5), (12, 1)]"
      ]
     },
     "execution_count": 34,
     "metadata": {},
     "output_type": "execute_result"
    }
   ],
   "source": [
    "##b) \n",
    "eq11 = sy.Eq(2*x + y**2, 25)\n",
    "eq11\n",
    "\n",
    "eq12 = sy.Eq(x - 2*y, 10)\n",
    "eq12\n",
    "\n",
    "sol5 = solve([eq11, eq12], [x,y])\n",
    "sol5"
   ]
  },
  {
   "cell_type": "markdown",
   "id": "8ec9fb46-b75d-4d00-9bed-4b22bb2570b3",
   "metadata": {},
   "source": [
    "## Oppgave4\n"
   ]
  },
  {
   "cell_type": "code",
   "execution_count": 35,
   "id": "437c4c22-2ec5-4332-a70c-28318d8bbc43",
   "metadata": {},
   "outputs": [
    {
     "data": {
      "text/plain": [
       "{x: 4, y: 2}"
      ]
     },
     "execution_count": 35,
     "metadata": {},
     "output_type": "execute_result"
    }
   ],
   "source": [
    "##a) \n",
    "eq13 = sy.Eq(4*x - 4*y, 8)\n",
    "eq13\n",
    "\n",
    "eq14= sy.Eq(9*x - 5*y, 26)\n",
    "eq14\n",
    "\n",
    "sol6 = solve([eq13, eq14], [x, y])\n",
    "sol6"
   ]
  },
  {
   "cell_type": "code",
   "execution_count": 36,
   "id": "f76348e9-9c97-4aed-a1d2-f697c2a65e1b",
   "metadata": {},
   "outputs": [
    {
     "data": {
      "text/plain": [
       "[(-9, -2*sqrt(3)), (-9, 2*sqrt(3)), (7, -2), (7, 2)]"
      ]
     },
     "execution_count": 36,
     "metadata": {},
     "output_type": "execute_result"
    }
   ],
   "source": [
    "##b) \n",
    "\n",
    "eq15= sy.Eq(x + 2*y**2, 15)\n",
    "eq15\n",
    "\n",
    "eq16= sy.Eq(x**2 - 4*y**2, 33)\n",
    "eq16 \n",
    "\n",
    "sol7=solve([eq15, eq16], [x,y])\n",
    "sol7"
   ]
  },
  {
   "cell_type": "markdown",
   "id": "54cb47d2-5ecb-4fd7-bbe3-877b506e41fc",
   "metadata": {},
   "source": [
    "## Oppgave 5 "
   ]
  },
  {
   "cell_type": "code",
   "execution_count": 37,
   "id": "6962d5f8-bfd5-41cb-b1cd-7089032b7f98",
   "metadata": {},
   "outputs": [
    {
     "data": {
      "text/plain": [
       "[(0, -4), (0, 4), (15, -1), (15, 1)]"
      ]
     },
     "execution_count": 37,
     "metadata": {},
     "output_type": "execute_result"
    }
   ],
   "source": [
    "##a) \n",
    "\n",
    "eq17 = sy.Eq(x*y**2 - x, 0)\n",
    "eq17\n",
    "\n",
    "eq18= sy.Eq(x + y**2, 16)\n",
    "eq18\n",
    "\n",
    "sol8= solve([eq17, eq18], [x,y])\n",
    "sol8\n"
   ]
  },
  {
   "cell_type": "code",
   "execution_count": 38,
   "id": "2be653db-fecd-433f-ba05-f0ca112384ba",
   "metadata": {},
   "outputs": [
    {
     "data": {
      "text/plain": [
       "[(-10, 0), (-6, -8), (-6, 8), (6, -8), (6, 8), (10, 0)]"
      ]
     },
     "execution_count": 38,
     "metadata": {},
     "output_type": "execute_result"
    }
   ],
   "source": [
    "##b) \n",
    "\n",
    "eq19= sy.Eq(x**2 + y**2, 100)\n",
    "eq19\n",
    "\n",
    "eq20= sy.Eq(x**2*y - 36 * y, 0)\n",
    "eq20 \n",
    "\n",
    "sol9= solve([eq19, eq20], [x,y])\n",
    "sol9"
   ]
  },
  {
   "cell_type": "markdown",
   "id": "03f827d7-7232-4616-9ce4-adddaba93f4f",
   "metadata": {},
   "source": [
    "## Oppgave 6 "
   ]
  },
  {
   "cell_type": "code",
   "execution_count": 39,
   "id": "a70b3be7-8ca3-46cf-a442-54c647abe86c",
   "metadata": {},
   "outputs": [
    {
     "data": {
      "text/plain": [
       "[(-3, -7), (-3, 7), (0, -sqrt(58)), (0, sqrt(58)), (3, -7), (3, 7)]"
      ]
     },
     "execution_count": 39,
     "metadata": {},
     "output_type": "execute_result"
    }
   ],
   "source": [
    "# a) \n",
    "eq21 = sy.Eq(x*y**2 - 49 *x, 0)\n",
    "eq21\n",
    "\n",
    "eq22= sy.Eq(x**2 + y **2, 58)\n",
    "eq22\n",
    "\n",
    "sol10= solve([eq21, eq22], [x,y])\n",
    "sol10\n"
   ]
  },
  {
   "cell_type": "code",
   "execution_count": 41,
   "id": "ecd93215-d576-402a-bbc4-f00203cacce4",
   "metadata": {},
   "outputs": [
    {
     "data": {
      "text/plain": [
       "[(-1.11803398874989, 0.0),\n",
       " (-0.500000000000000, -1.00000000000000),\n",
       " (-0.500000000000000, 1.00000000000000),\n",
       " (1.11803398874989, 0.0)]"
      ]
     },
     "execution_count": 41,
     "metadata": {},
     "output_type": "execute_result"
    }
   ],
   "source": [
    "# b) \n",
    "\n",
    "eq23 = sy.Eq(x**2 + y**2, 5/4)\n",
    "eq23\n",
    "\n",
    "eq24 = sy.Eq(2*x*y + y, 0)\n",
    "eq24\n",
    "\n",
    "sol11= solve([eq23, eq24], [x, y])\n",
    "sol11\n"
   ]
  },
  {
   "cell_type": "markdown",
   "id": "d397409e-ee9b-4e81-b437-04808b1449b0",
   "metadata": {},
   "source": [
    "## Oppgave 7 "
   ]
  },
  {
   "cell_type": "code",
   "execution_count": 43,
   "id": "8458e520-c9bf-4951-b211-759abdaf42c3",
   "metadata": {},
   "outputs": [
    {
     "data": {
      "text/latex": [
       "$\\displaystyle 5 x^{4}$"
      ],
      "text/plain": [
       "5*x**4"
      ]
     },
     "execution_count": 43,
     "metadata": {},
     "output_type": "execute_result"
    }
   ],
   "source": [
    "## a)\n",
    "\n",
    "sy.diff(x**5, x)"
   ]
  },
  {
   "cell_type": "code",
   "execution_count": 44,
   "id": "4cc96f41-dcb8-48ef-a4c7-c5d1d3305dc9",
   "metadata": {},
   "outputs": [
    {
     "data": {
      "text/latex": [
       "$\\displaystyle 1$"
      ],
      "text/plain": [
       "1"
      ]
     },
     "execution_count": 44,
     "metadata": {},
     "output_type": "execute_result"
    }
   ],
   "source": [
    "## b) \n",
    "\n",
    "sy.diff(x + 12, x)"
   ]
  },
  {
   "cell_type": "code",
   "execution_count": 48,
   "id": "0ab7c298-7627-4539-bc3d-6e3c79c2a191",
   "metadata": {},
   "outputs": [
    {
     "data": {
      "text/latex": [
       "$\\displaystyle 3 x^{2} + 8 x$"
      ],
      "text/plain": [
       "3*x**2 + 8*x"
      ]
     },
     "execution_count": 48,
     "metadata": {},
     "output_type": "execute_result"
    }
   ],
   "source": [
    "## c) \n",
    "\n",
    "sy.diff(x**3 + 4*x**2, x)"
   ]
  },
  {
   "cell_type": "code",
   "execution_count": 49,
   "id": "6dadace7-833b-477e-aac2-490ba3e0299c",
   "metadata": {},
   "outputs": [
    {
     "data": {
      "text/latex": [
       "$\\displaystyle 4 x$"
      ],
      "text/plain": [
       "4*x"
      ]
     },
     "execution_count": 49,
     "metadata": {},
     "output_type": "execute_result"
    }
   ],
   "source": [
    "## d) \n",
    "sy.diff(2*x**2 + sy.sqrt(36), x)"
   ]
  },
  {
   "cell_type": "code",
   "execution_count": 50,
   "id": "6088ae55-4027-47b0-85fd-707dd2bfef63",
   "metadata": {},
   "outputs": [
    {
     "data": {
      "text/latex": [
       "$\\displaystyle \\frac{1}{2 \\sqrt{x}}$"
      ],
      "text/plain": [
       "1/(2*sqrt(x))"
      ]
     },
     "execution_count": 50,
     "metadata": {},
     "output_type": "execute_result"
    }
   ],
   "source": [
    "## e) \n",
    "sy.diff(sy.sqrt(x)+ 5**2, x)"
   ]
  },
  {
   "cell_type": "code",
   "execution_count": 51,
   "id": "138b7ec2-e054-41f3-b9c8-feda2b971fb2",
   "metadata": {},
   "outputs": [
    {
     "data": {
      "text/latex": [
       "$\\displaystyle 3 x^{2} - \\frac{1}{x^{2}}$"
      ],
      "text/plain": [
       "3*x**2 - 1/x**2"
      ]
     },
     "execution_count": 51,
     "metadata": {},
     "output_type": "execute_result"
    }
   ],
   "source": [
    "## f) \n",
    "\n",
    "sy.diff(x**3 + 1/x, x)"
   ]
  },
  {
   "cell_type": "code",
   "execution_count": 52,
   "id": "dea08c69-53f9-4252-b40f-8b393c3e6766",
   "metadata": {},
   "outputs": [
    {
     "data": {
      "text/latex": [
       "$\\displaystyle 3 x^{2} - 2 x + 0.25$"
      ],
      "text/plain": [
       "3*x**2 - 2*x + 0.25"
      ]
     },
     "execution_count": 52,
     "metadata": {},
     "output_type": "execute_result"
    }
   ],
   "source": [
    "## g) \n",
    "\n",
    "sy.diff(x**3 - x**2 + 1/4*x, x)"
   ]
  },
  {
   "cell_type": "markdown",
   "id": "17aacd10-115e-4fd5-b7f7-8d2f721566fd",
   "metadata": {},
   "source": [
    "## Oppgave 8 "
   ]
  },
  {
   "cell_type": "code",
   "execution_count": 55,
   "id": "42f9afe6-850a-4438-8762-220e79c36594",
   "metadata": {},
   "outputs": [
    {
     "data": {
      "text/latex": [
       "$\\displaystyle 36 x^{5} - \\frac{1}{x^{2}}$"
      ],
      "text/plain": [
       "36*x**5 - 1/x**2"
      ]
     },
     "execution_count": 55,
     "metadata": {},
     "output_type": "execute_result"
    }
   ],
   "source": [
    "## a) \n",
    "\n",
    "sy.diff(1/x + 6*x**6, x)"
   ]
  },
  {
   "cell_type": "code",
   "execution_count": 56,
   "id": "bfd0ea08-502e-4d8e-88f6-1df63b8b88b5",
   "metadata": {},
   "outputs": [
    {
     "data": {
      "text/latex": [
       "$\\displaystyle 1.5 x^{2} - 1$"
      ],
      "text/plain": [
       "1.5*x**2 - 1"
      ]
     },
     "execution_count": 56,
     "metadata": {},
     "output_type": "execute_result"
    }
   ],
   "source": [
    "## b) \n",
    "\n",
    "sy.diff(-x + 1/2*x**3, x)"
   ]
  },
  {
   "cell_type": "code",
   "execution_count": 60,
   "id": "c1ad43e9-1fef-4f85-b07a-63f4a61ac7cc",
   "metadata": {},
   "outputs": [
    {
     "data": {
      "text/latex": [
       "$\\displaystyle 3 x^{2} + 4 x - 3$"
      ],
      "text/plain": [
       "3*x**2 + 4*x - 3"
      ]
     },
     "execution_count": 60,
     "metadata": {},
     "output_type": "execute_result"
    }
   ],
   "source": [
    "## c) \n",
    "sy.diff(x**3 + 2*x**2 -3*x, x)"
   ]
  },
  {
   "cell_type": "markdown",
   "id": "51f3762a-d14b-4531-b377-8624b245106b",
   "metadata": {},
   "source": [
    "## Oppgave 9\n"
   ]
  },
  {
   "cell_type": "code",
   "execution_count": 70,
   "id": "7f6d2fe0-6819-40b9-9a03-4e0a9dccd7e3",
   "metadata": {},
   "outputs": [
    {
     "data": {
      "text/latex": [
       "$\\displaystyle 9 x^{8}$"
      ],
      "text/plain": [
       "9*x**8"
      ]
     },
     "execution_count": 70,
     "metadata": {},
     "output_type": "execute_result"
    }
   ],
   "source": [
    "## e) \n",
    "\n",
    "sy.diff(x**4 * x**5, x)"
   ]
  },
  {
   "cell_type": "code",
   "execution_count": 81,
   "id": "c0c77723-8313-45d8-849d-93576b531227",
   "metadata": {},
   "outputs": [
    {
     "data": {
      "text/latex": [
       "$\\displaystyle \\frac{3 \\sqrt{x}}{2}$"
      ],
      "text/plain": [
       "3*sqrt(x)/2"
      ]
     },
     "execution_count": 81,
     "metadata": {},
     "output_type": "execute_result"
    }
   ],
   "source": [
    "## f) \n",
    "\n",
    "sy.diff(x * sy.sqrt(x))"
   ]
  },
  {
   "cell_type": "code",
   "execution_count": 72,
   "id": "f073643a-d163-42ae-bda9-b4f8712eaf65",
   "metadata": {},
   "outputs": [
    {
     "data": {
      "text/latex": [
       "$\\displaystyle - \\frac{6}{x^{4}}$"
      ],
      "text/plain": [
       "-6/x**4"
      ]
     },
     "execution_count": 72,
     "metadata": {},
     "output_type": "execute_result"
    }
   ],
   "source": [
    "## g) \n",
    "\n",
    "sy.diff(2/x**3, x)"
   ]
  },
  {
   "cell_type": "code",
   "execution_count": 83,
   "id": "0c71c015-8fd0-4289-beac-044e1038d68e",
   "metadata": {},
   "outputs": [
    {
     "data": {
      "text/latex": [
       "$\\displaystyle 2 x + \\frac{6}{x^{4}}$"
      ],
      "text/plain": [
       "2*x + 6/x**4"
      ]
     },
     "execution_count": 83,
     "metadata": {},
     "output_type": "execute_result"
    }
   ],
   "source": [
    "## h) \n",
    "\n",
    "sy.diff(x**2 - 2/ x**3, x)"
   ]
  },
  {
   "cell_type": "code",
   "execution_count": 77,
   "id": "eb21432e-7420-460c-a46d-e1c419a682cd",
   "metadata": {},
   "outputs": [
    {
     "data": {
      "text/latex": [
       "$\\displaystyle \\frac{13 x^{\\frac{11}{2}}}{2}$"
      ],
      "text/plain": [
       "13*x**(11/2)/2"
      ]
     },
     "execution_count": 77,
     "metadata": {},
     "output_type": "execute_result"
    }
   ],
   "source": [
    "## i) \n",
    "\n",
    "sy.diff(sy.sqrt(x) * x**6,x)"
   ]
  },
  {
   "cell_type": "code",
   "execution_count": 75,
   "id": "2ef1323e-3ab2-4614-a871-727ce2863eda",
   "metadata": {},
   "outputs": [
    {
     "data": {
      "text/latex": [
       "$\\displaystyle 3 x^{2} + 1$"
      ],
      "text/plain": [
       "3*x**2 + 1"
      ]
     },
     "execution_count": 75,
     "metadata": {},
     "output_type": "execute_result"
    }
   ],
   "source": [
    "## j) \n",
    "\n",
    "sy.diff(x**3 + 1*x, x)"
   ]
  },
  {
   "cell_type": "code",
   "execution_count": 84,
   "id": "6810b971-3ecb-48a4-9b05-2ebcb0f39723",
   "metadata": {},
   "outputs": [
    {
     "data": {
      "text/latex": [
       "$\\displaystyle 2 x - \\frac{12}{x^{4}}$"
      ],
      "text/plain": [
       "2*x - 12/x**4"
      ]
     },
     "execution_count": 84,
     "metadata": {},
     "output_type": "execute_result"
    }
   ],
   "source": [
    "## k) \n",
    "\n",
    "sy.diff(x**2 + 4 / x**3 -1, x)"
   ]
  },
  {
   "cell_type": "code",
   "execution_count": 85,
   "id": "0117bbd1-670d-47d1-9f3b-9c8f39f6bb51",
   "metadata": {},
   "outputs": [
    {
     "data": {
      "text/latex": [
       "$\\displaystyle 2$"
      ],
      "text/plain": [
       "2"
      ]
     },
     "execution_count": 85,
     "metadata": {},
     "output_type": "execute_result"
    }
   ],
   "source": [
    "## l) \n",
    "\n",
    "sy.diff(x**2 / x**2 + 2*x, x)"
   ]
  },
  {
   "cell_type": "code",
   "execution_count": 80,
   "id": "36fae3c6-aeaf-4a76-99d4-27302e9962f2",
   "metadata": {},
   "outputs": [
    {
     "data": {
      "text/latex": [
       "$\\displaystyle 2 x + 4 - \\frac{2}{x^{2}}$"
      ],
      "text/plain": [
       "2*x + 4 - 2/x**2"
      ]
     },
     "execution_count": 80,
     "metadata": {},
     "output_type": "execute_result"
    }
   ],
   "source": [
    "## m) \n",
    "\n",
    "sy.diff(x**2 + 4*x  + 2/ x- 2)"
   ]
  },
  {
   "cell_type": "markdown",
   "id": "dcdb2c48-70a8-472a-bb3a-fce289a13bc0",
   "metadata": {},
   "source": [
    "## Oppgave 10 "
   ]
  },
  {
   "cell_type": "code",
   "execution_count": null,
   "id": "3b21df2e-94a0-4af8-b340-43b686b5e360",
   "metadata": {},
   "outputs": [],
   "source": []
  }
 ],
 "metadata": {
  "kernelspec": {
   "display_name": "Python 3 (ipykernel)",
   "language": "python",
   "name": "python3"
  },
  "language_info": {
   "codemirror_mode": {
    "name": "ipython",
    "version": 3
   },
   "file_extension": ".py",
   "mimetype": "text/x-python",
   "name": "python",
   "nbconvert_exporter": "python",
   "pygments_lexer": "ipython3",
   "version": "3.9.5"
  }
 },
 "nbformat": 4,
 "nbformat_minor": 5
}
